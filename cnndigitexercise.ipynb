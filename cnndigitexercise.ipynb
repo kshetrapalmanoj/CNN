{
  "nbformat": 4,
  "nbformat_minor": 0,
  "metadata": {
    "colab": {
      "name": "cnndigitexercise.ipynb",
      "provenance": [],
      "collapsed_sections": []
    },
    "kernelspec": {
      "name": "python3",
      "display_name": "Python 3"
    }
  },
  "cells": [
    {
      "cell_type": "code",
      "metadata": {
        "id": "csdtCiwyduiv"
      },
      "source": [
        "import tensorflow as tf\n",
        "from tensorflow.keras import Sequential\n",
        "import numpy as np\n",
        "from keras.datasets import mnist\n",
        "from tensorflow.keras.layers import Flatten,Dense\n",
        "import matplotlib.pyplot as plt"
      ],
      "execution_count": 1,
      "outputs": []
    },
    {
      "cell_type": "code",
      "metadata": {
        "id": "3zMLZ7QamwPw",
        "colab": {
          "base_uri": "https://localhost:8080/"
        },
        "outputId": "fdbedec5-9e31-4427-8eb2-7809710b840a"
      },
      "source": [
        "(x_train,y_train),(x_test,y_test)=mnist.load_data()"
      ],
      "execution_count": 2,
      "outputs": [
        {
          "output_type": "stream",
          "text": [
            "Downloading data from https://storage.googleapis.com/tensorflow/tf-keras-datasets/mnist.npz\n",
            "11493376/11490434 [==============================] - 0s 0us/step\n"
          ],
          "name": "stdout"
        }
      ]
    },
    {
      "cell_type": "code",
      "metadata": {
        "id": "hFkcfHnCnItU",
        "colab": {
          "base_uri": "https://localhost:8080/"
        },
        "outputId": "dd11a267-225b-4ccb-d0fd-7400293e4c15"
      },
      "source": [
        "print(y_test)\n",
        "len(x_train[0])"
      ],
      "execution_count": 3,
      "outputs": [
        {
          "output_type": "stream",
          "text": [
            "[7 2 1 ... 4 5 6]\n"
          ],
          "name": "stdout"
        },
        {
          "output_type": "execute_result",
          "data": {
            "text/plain": [
              "28"
            ]
          },
          "metadata": {
            "tags": []
          },
          "execution_count": 3
        }
      ]
    },
    {
      "cell_type": "code",
      "metadata": {
        "id": "myN7enN2nc7R"
      },
      "source": [
        "x_train=np.array(x_train)\n",
        "y_train=np.array(y_train)\n",
        "x_test=np.array(x_test)\n",
        "y_test=np.array(y_test)"
      ],
      "execution_count": 4,
      "outputs": []
    },
    {
      "cell_type": "code",
      "metadata": {
        "id": "ct6nt6-foX0p",
        "colab": {
          "base_uri": "https://localhost:8080/",
          "height": 283
        },
        "outputId": "d582408b-5a27-4130-d358-d8d146913024"
      },
      "source": [
        "plt.imshow(x_train[2],cmap='binary')"
      ],
      "execution_count": 5,
      "outputs": [
        {
          "output_type": "execute_result",
          "data": {
            "text/plain": [
              "<matplotlib.image.AxesImage at 0x7f01783e0d30>"
            ]
          },
          "metadata": {
            "tags": []
          },
          "execution_count": 5
        },
        {
          "output_type": "display_data",
          "data": {
            "image/png": "[encoded data removed]",
            "text/plain": [
              "<Figure size 432x288 with 1 Axes>"
            ]
          },
          "metadata": {
            "tags": [],
            "needs_background": "light"
          }
        }
      ]
    },
    {
      "cell_type": "code",
      "metadata": {
        "id": "aoNgSx1so4ot",
        "colab": {
          "base_uri": "https://localhost:8080/"
        },
        "outputId": "f83bea1e-eb4e-475a-9202-547a4d315e27"
      },
      "source": [
        "print(y_train[2])"
      ],
      "execution_count": 6,
      "outputs": [
        {
          "output_type": "stream",
          "text": [
            "4\n"
          ],
          "name": "stdout"
        }
      ]
    },
    {
      "cell_type": "code",
      "metadata": {
        "id": "Sz-w0PJfo9U5",
        "colab": {
          "base_uri": "https://localhost:8080/"
        },
        "outputId": "800f7a4f-cb1e-40cf-e532-a6782ee874af"
      },
      "source": [
        "x_train=tf.keras.utils.normalize(x_train,axis=1)\n",
        "x_train=x_train.reshape(-1,28,28,1)\n",
        "x_train.shape"
      ],
      "execution_count": 7,
      "outputs": [
        {
          "output_type": "execute_result",
          "data": {
            "text/plain": [
              "(60000, 28, 28, 1)"
            ]
          },
          "metadata": {
            "tags": []
          },
          "execution_count": 7
        }
      ]
    },
    {
      "cell_type": "code",
      "metadata": {
        "id": "w7_yQHirsEfe"
      },
      "source": [
        "from tensorflow.keras import Sequential\n",
        "from tensorflow.keras.layers import Dense,Flatten,Conv2D,MaxPooling2D,Dropout"
      ],
      "execution_count": 8,
      "outputs": []
    },
    {
      "cell_type": "code",
      "metadata": {
        "id": "irvLW_-0phqG"
      },
      "source": [
        "model=Sequential()\n",
        "model.add(Conv2D(64,(3,3),activation='relu',input_shape=x_train[0].shape))\n",
        "model.add(MaxPooling2D(pool_size=(3,3)))\n",
        "\n",
        "model.add(Conv2D(64,(3,3),activation='relu'))\n",
        "model.add(MaxPooling2D(pool_size=(3,3)))\n",
        "\n",
        "model.add(Flatten())\n",
        "model.add(Dense(64,activation='relu'))\n",
        "model.add(Dropout(0.3))\n",
        "\n",
        "model.add(Dense(64,activation='relu'))\n",
        "model.add(Dropout(0.3))\n",
        "\n",
        "model.add(Dense(10,activation='softmax'))\n",
        "\n",
        "model.compile(optimizer='adam',loss='sparse_categorical_crossentropy',metrics=['accuracy'])"
      ],
      "execution_count": 9,
      "outputs": []
    },
    {
      "cell_type": "code",
      "metadata": {
        "id": "GjaXFV7urxce",
        "colab": {
          "base_uri": "https://localhost:8080/"
        },
        "outputId": "15ff63ea-2949-4dc2-b210-783e82e73d91"
      },
      "source": [
        "model.fit(x_train,y_train,epochs=12)"
      ],
      "execution_count": 10,
      "outputs": [
        {
          "output_type": "stream",
          "text": [
            "Epoch 1/12\n",
            "1875/1875 [==============================] - 45s 24ms/step - loss: 0.7865 - accuracy: 0.7393\n",
            "Epoch 2/12\n",
            "1875/1875 [==============================] - 46s 24ms/step - loss: 0.1491 - accuracy: 0.9573\n",
            "Epoch 3/12\n",
            "1875/1875 [==============================] - 44s 24ms/step - loss: 0.1078 - accuracy: 0.9698\n",
            "Epoch 4/12\n",
            "1875/1875 [==============================] - 45s 24ms/step - loss: 0.0796 - accuracy: 0.9766\n",
            "Epoch 5/12\n",
            "1875/1875 [==============================] - 45s 24ms/step - loss: 0.0678 - accuracy: 0.9802\n",
            "Epoch 6/12\n",
            "1875/1875 [==============================] - 45s 24ms/step - loss: 0.0595 - accuracy: 0.9828\n",
            "Epoch 7/12\n",
            "1875/1875 [==============================] - 44s 24ms/step - loss: 0.0522 - accuracy: 0.9852\n",
            "Epoch 8/12\n",
            "1875/1875 [==============================] - 44s 24ms/step - loss: 0.0450 - accuracy: 0.9870\n",
            "Epoch 9/12\n",
            "1875/1875 [==============================] - 45s 24ms/step - loss: 0.0436 - accuracy: 0.9871\n",
            "Epoch 10/12\n",
            "1875/1875 [==============================] - 44s 24ms/step - loss: 0.0372 - accuracy: 0.9892\n",
            "Epoch 11/12\n",
            "1875/1875 [==============================] - 51s 27ms/step - loss: 0.0393 - accuracy: 0.9883\n",
            "Epoch 12/12\n",
            "1875/1875 [==============================] - 44s 24ms/step - loss: 0.0358 - accuracy: 0.9898\n"
          ],
          "name": "stdout"
        },
        {
          "output_type": "execute_result",
          "data": {
            "text/plain": [
              "<tensorflow.python.keras.callbacks.History at 0x7f0179014f98>"
            ]
          },
          "metadata": {
            "tags": []
          },
          "execution_count": 10
        }
      ]
    },
    {
      "cell_type": "code",
      "metadata": {
        "id": "AIfrCnNUsxSL",
        "colab": {
          "base_uri": "https://localhost:8080/"
        },
        "outputId": "6d847c31-960d-4e3b-d6cb-8e733507dc95"
      },
      "source": [
        "model.save('cnndigitexercise.model')"
      ],
      "execution_count": 11,
      "outputs": [
        {
          "output_type": "stream",
          "text": [
            "INFO:tensorflow:Assets written to: cnndigitexercise.model/assets\n"
          ],
          "name": "stdout"
        }
      ]
    },
    {
      "cell_type": "code",
      "metadata": {
        "id": "8ptpG5qrxaO7"
      },
      "source": [
        "x_test=tf.keras.utils.normalize(x_test,axis=1)\n",
        "x_test=x_test.reshape(-1,28,28,1)\n",
        "predict=model.predict(x_test)"
      ],
      "execution_count": 12,
      "outputs": []
    },
    {
      "cell_type": "code",
      "metadata": {
        "id": "2aNQHOWHyXkr",
        "colab": {
          "base_uri": "https://localhost:8080/"
        },
        "outputId": "9c9620f9-512e-4311-d9d7-0b385ffa7d0b"
      },
      "source": [
        "digit=np.argmax(predict[1])\n",
        "print(digit)"
      ],
      "execution_count": 19,
      "outputs": [
        {
          "output_type": "stream",
          "text": [
            "2\n"
          ],
          "name": "stdout"
        }
      ]
    },
    {
      "cell_type": "code",
      "metadata": {
        "id": "HmUyctmbzPCV",
        "colab": {
          "base_uri": "https://localhost:8080/"
        },
        "outputId": "9ccac350-f74d-400a-f686-9ae5174cd7cc"
      },
      "source": [
        "y_test[1]"
      ],
      "execution_count": 20,
      "outputs": [
        {
          "output_type": "execute_result",
          "data": {
            "text/plain": [
              "2"
            ]
          },
          "metadata": {
            "tags": []
          },
          "execution_count": 20
        }
      ]
    }
  ]
}